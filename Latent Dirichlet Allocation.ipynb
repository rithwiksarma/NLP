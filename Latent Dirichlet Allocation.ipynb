{
 "cells": [
  {
   "cell_type": "code",
   "execution_count": 1,
   "metadata": {},
   "outputs": [],
   "source": [
    "import pandas as pd"
   ]
  },
  {
   "cell_type": "code",
   "execution_count": 2,
   "metadata": {},
   "outputs": [],
   "source": [
    "npr = pd.read_csv(\"C:/Users/rithw/Desktop/Udemy/UPDATED_NLP_COURSE/05-Topic-Modeling/npr.csv\")"
   ]
  },
  {
   "cell_type": "code",
   "execution_count": 3,
   "metadata": {},
   "outputs": [
    {
     "data": {
      "text/html": [
       "<div>\n",
       "<style scoped>\n",
       "    .dataframe tbody tr th:only-of-type {\n",
       "        vertical-align: middle;\n",
       "    }\n",
       "\n",
       "    .dataframe tbody tr th {\n",
       "        vertical-align: top;\n",
       "    }\n",
       "\n",
       "    .dataframe thead th {\n",
       "        text-align: right;\n",
       "    }\n",
       "</style>\n",
       "<table border=\"1\" class=\"dataframe\">\n",
       "  <thead>\n",
       "    <tr style=\"text-align: right;\">\n",
       "      <th></th>\n",
       "      <th>Article</th>\n",
       "    </tr>\n",
       "  </thead>\n",
       "  <tbody>\n",
       "    <tr>\n",
       "      <th>0</th>\n",
       "      <td>In the Washington of 2016, even when the polic...</td>\n",
       "    </tr>\n",
       "    <tr>\n",
       "      <th>1</th>\n",
       "      <td>Donald Trump has used Twitter  —   his prefe...</td>\n",
       "    </tr>\n",
       "    <tr>\n",
       "      <th>2</th>\n",
       "      <td>Donald Trump is unabashedly praising Russian...</td>\n",
       "    </tr>\n",
       "    <tr>\n",
       "      <th>3</th>\n",
       "      <td>Updated at 2:50 p. m. ET, Russian President Vl...</td>\n",
       "    </tr>\n",
       "    <tr>\n",
       "      <th>4</th>\n",
       "      <td>From photography, illustration and video, to d...</td>\n",
       "    </tr>\n",
       "  </tbody>\n",
       "</table>\n",
       "</div>"
      ],
      "text/plain": [
       "                                             Article\n",
       "0  In the Washington of 2016, even when the polic...\n",
       "1    Donald Trump has used Twitter  —   his prefe...\n",
       "2    Donald Trump is unabashedly praising Russian...\n",
       "3  Updated at 2:50 p. m. ET, Russian President Vl...\n",
       "4  From photography, illustration and video, to d..."
      ]
     },
     "execution_count": 3,
     "metadata": {},
     "output_type": "execute_result"
    }
   ],
   "source": [
    "npr.head()"
   ]
  },
  {
   "cell_type": "code",
   "execution_count": 4,
   "metadata": {},
   "outputs": [
    {
     "data": {
      "text/plain": [
       "(11992, 1)"
      ]
     },
     "execution_count": 4,
     "metadata": {},
     "output_type": "execute_result"
    }
   ],
   "source": [
    "npr.shape"
   ]
  },
  {
   "cell_type": "code",
   "execution_count": 5,
   "metadata": {},
   "outputs": [
    {
     "data": {
      "text/plain": [
       "'For years now, some of the best, wildest, most moving or revealing stories we’ve been telling ourselves have come not from books, movies or TV, but from video games. So we’re running an occasional series, Reading The Game, in which we take a look at some of these games from a literary perspective. I played the game through the first time in something like a perfect state of awe and terror. Enraptured is, I think, the word that best describes it. Carried away completely into this ruined, beautiful world and the story of Joel and Ellie in The Last of Us. Normally such a completionist  —   so obsessed with exploring every hide and hollow in these imaginary worlds I throw myself into  —   in this instance I simply rolled with the narrative. Ran when running was proper. Slogged through dark and rain and snow and sunshine. Stood my bloody ground when left with no other options. Joel came to love Ellie, his surrogate daughter, and Ellie came to love Joel, the only father she’d ever known. And I (a father, with a daughter roughly Ellie’s age, with Ellie’s   vocabulary and Ellie’s strange, discordant humor) loved Ellie, too. So when I reached the endgame and was presented with a terrible choice (no spoilers . .. yet) I drew my guns and slaughtered my way to the end credits, alight with fury and sure knowledge that I’d made the only choice I could. Second run: The beats are all the same, the story a known thing. Joel and Ellie fight zombies and soldiers and bandits and madmen. They lose friends and see sunrises and, this time, I play with an awful wisdom. Cassandra’s curse. I know how this story ends and I have made up my mind that, this time, I will make the other choice. The right one (morally, mathematically, humanistically) and so I walk with ghosts the whole way, right up to the end, and then . .. And then I make the exact same choice again. I can’t make the other. It hurts too much. Because that is how good the storytelling is in The Last Of Us. It makes you care so deeply for a   bunch of pixels in the shape of a teenage girl that you will damn the whole world twice just for her. (OK, so now we’re gonna get spoilery. Fair warning.) The Last Of Us is a zombie story. It is incredibly derivative, borrows liberally from a hundred different books and movies, is structurally simplistic,   melodramatic, viscerally violent, and despite all this (or, arguably, because of all this) tells one of the most moving, affecting and satisfying stories you’ll find anywhere. At its heart, it is the story of Joel  —   a broken and   thief and smuggler living 20 years deep into a zombie apocalypse. He and his partner, Tess, are forced into a job that requires them to smuggle a young girl out of the Boston quarantine zone and deliver her to an army of revolutionaries because, of course, this girl is The One  —   the only person ever to be immune to the   that turns infected people into gross, murderous mushroom zombies. That young girl is Ellie. And, unsurprisingly, the job does not exactly go as planned. If this all sounds familiar, that’s fine because it is familiar. The   is a stock frame  —   tested and dependable. It is a road trip story in the same way that Cormac McCarthy’s The Road is, or Mad Max: Fury Road. Go from point A to point B, survive the journey, get there whole. And there’s nothing at all wrong with a simple narrative architecture when it is being used to support complex character arcs, as it is here. The Last Of Us is a simple road trip story underneath, existing in service to the complex and rich redemption story on top. All the stakes and ruination are laid out in the first 10 minutes, in a prologue so powerful that it’ll break your heart even if you don’t have one. Joel loses his daughter on the night the world ends, his little girl dying in his arms, under the gun of a panicked soldier trying to hold back the infected. When Ellie floats into his life two decades later, the jaded gamer in you says, Oh, so here’s where he learns to love again. . .. And you’re right. But then you watch it happen  —   in tiny moments like when Ellie, blowing off caution, walks a rickety plank between two buildings and Joel glances briefly down at the watch he wears, a gift from his daughter that he’s been wearing for 20 years  —   and you participate in it happening (protecting her, defending her, eventually becoming her for an extended chunk of the game in a brilliant bit of perspective switching) and it all just clicks. This is a love story  —   one of the best    narratives ever told. Which is when that ending comes and you are presented with the ultimate parental nightmare scenario: Will you sacrifice the life of your child to save the world? Not a stranger, a friend or even a spouse, but your own daughter (which is what Ellie is now  —   Joel’s daughter, blood or no). Because in Ellie lives the cure to the mushroom zombie plague. But in order to create it, she has to die. I started a third playthrough before writing this piece. I am walking slow, taking my time, listening to Ellie read from her joke book, watching her swarmed by fireflies on the outskirts of Boston and admiring the natural beauty and deep environmental storytelling of the game. Nature has reclaimed most of this abandoned world, giving us an unusual apocalypse run riot with wildflowers. And while I have not made it to the end yet, I know it’s coming. I know the choice I’m going to have to make. And I know exactly what I’m going to do. Jason Sheehan is an   a former restaurant critic and the current food editor of Philadelphia magazine. But when no one is looking, he spends his time writing books about spaceships, aliens, giant robots and ray guns. Tales From the Radiation Age is his latest book.'"
      ]
     },
     "execution_count": 5,
     "metadata": {},
     "output_type": "execute_result"
    }
   ],
   "source": [
    "npr['Article'][10]"
   ]
  },
  {
   "cell_type": "code",
   "execution_count": 6,
   "metadata": {},
   "outputs": [
    {
     "data": {
      "text/plain": [
       "'The Fred Hersch Trio brings a seductive and crafty intelligence to its version of ”We See,” the Thelonious Monk tune. Articulating its melody at the piano, Hersch slips in a few leisurely pauses, which slow down and stretch out the form. Then, in the bridge, he ratchets up to twice the speed, evoking the frenetic whir of the factory machinery in Charlie Chaplin’s Modern Times. The track suggests a clever, affectionate tribute to an enduring work of art  —   and that’s before Hersch even gets around to his jaunty yet exploratory piano solo. On Sunday, Hersch could conceivably win a Grammy for that solo, and another for Sunday Night at the Vanguard, the album on which ”We See” appears. Hersch is a veteran Grammy nominee, and he’d be a deserving winner. But along with a high level of artistry, his nominations this year attest to a persistent and pervasive truth in jazz: When it comes to glittery recognition from the Recording Academy, as with broader popular acclaim, the scale is usually tipped in favor of standards. This year’s nominee pool for Best Improvised Jazz Solo also includes pianist Brad Mehldau suavely gliding through Cole Porter’s ”I Concentrate On You,” and guitarist John Scofield taking a postbop trot through Hank Williams’ ”I’m So Lonesome I Could Cry.” Joey Alexander, the    piano wunderkind, earned his seat at the table this year with ”Countdown,” a John Coltrane composition long understood as the jazz equivalent of an Olympic qualifying trial. These nominees underscore the point, reminding us of the outsize influence that a standard repertoire can hold  —   especially among a constituency searching for some criteria by which to judge. If you know ”We See”  —   a   Monk tune that nonetheless comes with the imprimatur of an acknowledged giant  —   you’re prepared to grasp the particular achievement of Hersch and his trio: Their tweaks to the song flatter your understanding, delivering a wink and a nudge. Grammy voters like that feeling, at least as much as the rest of us do. What makes a jazz standard, exactly? Broadly speaking, they’re songs in   circulation, including but not restricted to much of what we call the Great American Songbook. Jazz musicians have long grown up with this repertoire, internalizing its lessons. ”Not learning these songs puts a jazz player on a quick path to unemployment,” writes critic Ted Gioia in his 2012 book The Jazz Standards, an explicit attempt to formalize a canon. But there’s a lot more to jazz than any standard framework can accommodate. Most of the vital work now being done involves original music, in a range of expression and style. This is the benchmark rewarded by commissioning bodies, arts institutions and the more adventurous pockets of the listening public. Consider the 2016 NPR Music Jazz Critics Poll, compiled by Francis Davis. A survey of almost 140 active jazz critics worldwide, it’s among the closest things we have to an official consensus. And the best jazz album last year, according to the poll, was Old Locks and Irregular Verbs, a stormy new suite by multireedist Henry Threadgill, who also won the Pulitzer Prize for Composition last year. As with   Wadada Leo Smith, who had two albums in the Top 5, and guitarist Mary Halvorson, who came in at No. 4 (and topped my own list) Threadgill is an artist for whom the word ”original” doesn’t seem remotely sufficient. The implicit assumption is that artists like Threadgill are excluded from the Grammy conversation because of an Academy bias toward aesthetic conservatism. There’s truth to that, and not just in the jazz field. But I’ve come to believe that the issue also has a lot to do with a recognizable yardstick for accomplishment  —   or, as it happens, the lack thereof. A voter attempting to apprehend Old Locks and Irregular Verbs would have to accept the album entirely on its own terms, which of course is to Threadgill’s credit as an artist (but to his detriment at the Grammys). In addition to Hersch’s Sunday Night at the Vanguard, this year’s contenders for Best Jazz Instrumental Album include Scofield, whose Country For Old Men is a more intrepid excursion than its title would suggest pianist Kenny Barron, whose Book Of Intuition is a superb trio outing, far from complacent or ”safe” and Mehldau for Nearness, an intimate yet searching duo album with saxophonist Joshua Redman. What these albums have in common, beyond the   name value, is the inclusion of tunes that almost any   Academy member would know. Mehldau and Redman dig into some Monk, as does Barron. Scofield’s album makes unlikely jazz standards out of beloved old country songs. There are originals here too, but the presence of familiar signposts means that even a casual listener can trace his or her way through the form. It’s no accident that pianist Herbie Hancock, one of the most   jazz artists in history, received most of his awards for reinventions of one sort or another: George Gershwin, Miles Davis, Joni Mitchell. His two most recent awards were for The Imagine Project, an   crossover summit of an album, featuring a slew of pop covers. (His first two awards were in the RB field, beginning with his knockout win for ”Rockit. ”) In light of such   precedent, it’s always worth noting the exceptions. In the category of Best Large Jazz Ensemble Album, among releases devoted to Monk and The Beatles, you’ll find a pair of suites that stake out very different places in the political discourse: Real Enemies, by Darcy James Argue’s Secret Society and Presidential Suite: Eight Variations On Freedom, by the Ted Nash Big Band. But the real outlier may be back in Best Improvised Jazz Solo, where Ravi Coltrane is nominated for a lithe, impassioned soprano saxophone performance on the title track of In Movement, his album with bass guitarist Matthew Garrison and drummer Jack DeJohnette. ”In Movement” is a spontaneous composition, forged out of   interplay among the musicians. Beginning with a light shower of bass arpeggios and a blinking rhythmic loop, the piece gradually assumes a mood of shadowy intrigue, through which Coltrane’s soprano sweeps like a searchlight. The track is captivating, and duly celebrated: In Movement came in at No. 3 in the NPR poll. It would be a bold choice for a Grammy win, but don’t hold your breath. The only standard it represents is a standard of excellence, and that by itself often only gets you so far.'"
      ]
     },
     "execution_count": 6,
     "metadata": {},
     "output_type": "execute_result"
    }
   ],
   "source": [
    "npr['Article'][1000]"
   ]
  },
  {
   "cell_type": "markdown",
   "metadata": {},
   "source": [
    "# Pre-processing the data"
   ]
  },
  {
   "cell_type": "code",
   "execution_count": 8,
   "metadata": {},
   "outputs": [],
   "source": [
    "from sklearn.feature_extraction.text import CountVectorizer"
   ]
  },
  {
   "cell_type": "code",
   "execution_count": 18,
   "metadata": {},
   "outputs": [],
   "source": [
    "cv = CountVectorizer(min_df=2, max_df=0.95, stop_words=\"english\", lowercase=True)"
   ]
  },
  {
   "cell_type": "markdown",
   "metadata": {},
   "source": [
    "\n",
    "    min_df = Minimum number of documents or minuimum % of documents that word has to appear in to be counted i.e. remove rare words\n",
    "    \n",
    "    max_df = percentage of documents that word has to appear in in order to not count those word. i.e. Remove extremely common words \n",
    "\n",
    "    lowercase = True : converting all the documents to lowercase\n",
    "    \n",
    "    stop_words = english : removing the stop words\n"
   ]
  },
  {
   "cell_type": "code",
   "execution_count": 19,
   "metadata": {},
   "outputs": [],
   "source": [
    "dtm = cv.fit_transform(npr['Article'])"
   ]
  },
  {
   "cell_type": "code",
   "execution_count": 20,
   "metadata": {},
   "outputs": [
    {
     "data": {
      "text/plain": [
       "<11992x54777 sparse matrix of type '<class 'numpy.int64'>'\n",
       "\twith 3033388 stored elements in Compressed Sparse Row format>"
      ]
     },
     "execution_count": 20,
     "metadata": {},
     "output_type": "execute_result"
    }
   ],
   "source": [
    "dtm"
   ]
  },
  {
   "cell_type": "markdown",
   "metadata": {},
   "source": [
    "11992x54777 : no of documents X no of words"
   ]
  },
  {
   "cell_type": "code",
   "execution_count": 21,
   "metadata": {},
   "outputs": [],
   "source": [
    "from sklearn.decomposition import LatentDirichletAllocation"
   ]
  },
  {
   "cell_type": "code",
   "execution_count": 22,
   "metadata": {},
   "outputs": [],
   "source": [
    "lda = LatentDirichletAllocation(n_components = 10)"
   ]
  },
  {
   "cell_type": "markdown",
   "metadata": {},
   "source": [
    "    n_components : Deciding on the number of topics\n"
   ]
  },
  {
   "cell_type": "code",
   "execution_count": 23,
   "metadata": {},
   "outputs": [
    {
     "data": {
      "text/plain": [
       "LatentDirichletAllocation(batch_size=128, doc_topic_prior=None,\n",
       "                          evaluate_every=-1, learning_decay=0.7,\n",
       "                          learning_method='batch', learning_offset=10.0,\n",
       "                          max_doc_update_iter=100, max_iter=10,\n",
       "                          mean_change_tol=0.001, n_components=10, n_jobs=None,\n",
       "                          perp_tol=0.1, random_state=None,\n",
       "                          topic_word_prior=None, total_samples=1000000.0,\n",
       "                          verbose=0)"
      ]
     },
     "execution_count": 23,
     "metadata": {},
     "output_type": "execute_result"
    }
   ],
   "source": [
    "lda.fit(dtm)"
   ]
  },
  {
   "cell_type": "markdown",
   "metadata": {},
   "source": [
    "After fitting LDA, :\n",
    "    \n",
    "    1. Grab the vocabulary of words\n",
    "    \n",
    "    2. Grab the topics\n",
    "    \n",
    "    3. Grab the highest probability words in each topic"
   ]
  },
  {
   "cell_type": "markdown",
   "metadata": {},
   "source": [
    "### Vocabulary of Words"
   ]
  },
  {
   "cell_type": "code",
   "execution_count": 24,
   "metadata": {},
   "outputs": [
    {
     "data": {
      "text/plain": [
       "54777"
      ]
     },
     "execution_count": 24,
     "metadata": {},
     "output_type": "execute_result"
    }
   ],
   "source": [
    "len(cv.get_feature_names( ))"
   ]
  },
  {
   "cell_type": "code",
   "execution_count": 26,
   "metadata": {},
   "outputs": [
    {
     "data": {
      "text/plain": [
       "list"
      ]
     },
     "execution_count": 26,
     "metadata": {},
     "output_type": "execute_result"
    }
   ],
   "source": [
    "type(cv.get_feature_names())"
   ]
  },
  {
   "cell_type": "code",
   "execution_count": 31,
   "metadata": {},
   "outputs": [
    {
     "data": {
      "text/plain": [
       "'curriculum'"
      ]
     },
     "execution_count": 31,
     "metadata": {},
     "output_type": "execute_result"
    }
   ],
   "source": [
    "cv.get_feature_names()[12382]"
   ]
  },
  {
   "cell_type": "code",
   "execution_count": 32,
   "metadata": {},
   "outputs": [
    {
     "data": {
      "text/plain": [
       "'dripping'"
      ]
     },
     "execution_count": 32,
     "metadata": {},
     "output_type": "execute_result"
    }
   ],
   "source": [
    "cv.get_feature_names()[15382]"
   ]
  },
  {
   "cell_type": "code",
   "execution_count": 35,
   "metadata": {},
   "outputs": [
    {
     "data": {
      "text/plain": [
       "'tulum'"
      ]
     },
     "execution_count": 35,
     "metadata": {},
     "output_type": "execute_result"
    }
   ],
   "source": [
    "import random\n",
    "\n",
    "cv.get_feature_names()[random.randint(0,54777)]"
   ]
  },
  {
   "cell_type": "markdown",
   "metadata": {},
   "source": [
    "### The Topics"
   ]
  },
  {
   "cell_type": "code",
   "execution_count": 36,
   "metadata": {},
   "outputs": [
    {
     "data": {
      "text/plain": [
       "array([[2.12175668e+01, 1.09715806e+03, 1.00000000e-01, ...,\n",
       "        1.00002856e-01, 1.00064876e-01, 1.00000000e-01],\n",
       "       [1.90143076e-01, 5.63081073e+02, 1.00000000e-01, ...,\n",
       "        1.00003797e-01, 1.00000000e-01, 1.00007585e-01],\n",
       "       [1.76596715e+01, 3.29493914e+02, 1.00000000e-01, ...,\n",
       "        1.00000445e-01, 1.00000000e-01, 1.00000974e-01],\n",
       "       ...,\n",
       "       [1.00046952e-01, 1.07809589e+02, 1.00000000e-01, ...,\n",
       "        1.00004191e-01, 1.00000000e-01, 1.00000000e-01],\n",
       "       [7.64092104e+00, 2.69495574e+02, 1.00000000e-01, ...,\n",
       "        3.36377640e+00, 1.00180715e-01, 1.41864750e-01],\n",
       "       [1.47374268e+00, 1.72279301e+03, 1.00002866e-01, ...,\n",
       "        1.00012759e-01, 1.00001401e-01, 1.00000000e-01]])"
      ]
     },
     "execution_count": 36,
     "metadata": {},
     "output_type": "execute_result"
    }
   ],
   "source": [
    "lda.components_"
   ]
  },
  {
   "cell_type": "code",
   "execution_count": 37,
   "metadata": {},
   "outputs": [
    {
     "data": {
      "text/plain": [
       "numpy.ndarray"
      ]
     },
     "execution_count": 37,
     "metadata": {},
     "output_type": "execute_result"
    }
   ],
   "source": [
    "type(lda.components_)"
   ]
  },
  {
   "cell_type": "code",
   "execution_count": 38,
   "metadata": {},
   "outputs": [
    {
     "data": {
      "text/plain": [
       "(10, 54777)"
      ]
     },
     "execution_count": 38,
     "metadata": {},
     "output_type": "execute_result"
    }
   ],
   "source": [
    "lda.components_.shape"
   ]
  },
  {
   "cell_type": "markdown",
   "metadata": {},
   "source": [
    "#### First topic"
   ]
  },
  {
   "cell_type": "code",
   "execution_count": 39,
   "metadata": {},
   "outputs": [],
   "source": [
    "first_topic = lda.components_[0]"
   ]
  },
  {
   "cell_type": "code",
   "execution_count": 40,
   "metadata": {},
   "outputs": [
    {
     "data": {
      "text/plain": [
       "(54777,)"
      ]
     },
     "execution_count": 40,
     "metadata": {},
     "output_type": "execute_result"
    }
   ],
   "source": [
    "first_topic.shape"
   ]
  },
  {
   "cell_type": "code",
   "execution_count": 43,
   "metadata": {},
   "outputs": [],
   "source": [
    "top_10_words = first_topic.argsort()[-10:]"
   ]
  },
  {
   "cell_type": "code",
   "execution_count": 47,
   "metadata": {
    "scrolled": true
   },
   "outputs": [
    {
     "name": "stdout",
     "output_type": "stream",
     "text": [
      "just\n",
      "time\n",
      "years\n",
      "year\n",
      "000\n",
      "new\n",
      "people\n",
      "water\n",
      "said\n",
      "says\n"
     ]
    }
   ],
   "source": [
    "for i in top_10_words:\n",
    "    print(cv.get_feature_names()[i])"
   ]
  },
  {
   "cell_type": "markdown",
   "metadata": {},
   "source": [
    "#### Second topic"
   ]
  },
  {
   "cell_type": "code",
   "execution_count": 48,
   "metadata": {},
   "outputs": [],
   "source": [
    "second_topic = lda.components_[1]"
   ]
  },
  {
   "cell_type": "code",
   "execution_count": 51,
   "metadata": {},
   "outputs": [],
   "source": [
    "top_20_words = second_topic.argsort()[-20:]"
   ]
  },
  {
   "cell_type": "code",
   "execution_count": 52,
   "metadata": {},
   "outputs": [
    {
     "name": "stdout",
     "output_type": "stream",
     "text": [
      "rights\n",
      "time\n",
      "men\n",
      "officers\n",
      "country\n",
      "violence\n",
      "man\n",
      "years\n",
      "according\n",
      "attack\n",
      "black\n",
      "say\n",
      "reports\n",
      "killed\n",
      "told\n",
      "city\n",
      "says\n",
      "police\n",
      "people\n",
      "said\n"
     ]
    }
   ],
   "source": [
    "for i in top_20_words:\n",
    "    print(cv.get_feature_names()[i])"
   ]
  },
  {
   "cell_type": "markdown",
   "metadata": {},
   "source": [
    "# Printing the top 15 words in each topic"
   ]
  },
  {
   "cell_type": "code",
   "execution_count": 63,
   "metadata": {},
   "outputs": [
    {
     "name": "stdout",
     "output_type": "stream",
     "text": [
      "Topic 1\n",
      "['company', 'national', 'oil', 'according', 'day', 'just', 'time', 'years', 'year', '000', 'new', 'people', 'water', 'said', 'says']\n",
      "\n",
      "\n",
      "Topic 2\n",
      "['violence', 'man', 'years', 'according', 'attack', 'black', 'say', 'reports', 'killed', 'told', 'city', 'says', 'police', 'people', 'said']\n",
      "\n",
      "\n",
      "Topic 3\n",
      "['says', 'state', 'new', 'npr', 'department', 'white', 'administration', 'security', 'obama', 'government', 'russia', 'house', 'president', 'said', 'trump']\n",
      "\n",
      "\n",
      "Topic 4\n",
      "['sanders', 'donald', 'republicans', 'vote', 'election', 'party', 'voters', 'state', 'republican', 'president', 'people', 'campaign', 'clinton', 'said', 'trump']\n",
      "\n",
      "\n",
      "Topic 5\n",
      "['don', 'just', 'percent', 'drug', 'women', 'like', 'children', 'disease', 'medical', 'patients', 'study', 'care', 'people', 'health', 'says']\n",
      "\n",
      "\n",
      "Topic 6\n",
      "['things', 've', 'music', 'new', 'life', 'don', 'way', 'time', 'really', 'know', 'think', 'people', 'says', 'just', 'like']\n",
      "\n",
      "\n",
      "Topic 7\n",
      "['series', 'people', 'film', 'best', 'years', 'game', 'says', 'team', 'world', 'said', 'time', 'year', 'just', 'like', 'new']\n",
      "\n",
      "\n",
      "Topic 8\n",
      "['justice', 'legal', 'states', 'decision', 'abortion', 'case', 'rights', 'supreme', 'women', 'said', 'says', 'federal', 'state', 'law', 'court']\n",
      "\n",
      "\n",
      "Topic 9\n",
      "['university', 'make', 'human', 'scientists', 'way', 'animals', 'years', 'time', 'people', 'science', 'just', 'new', 'like', 'food', 'says']\n",
      "\n",
      "\n",
      "Topic 10\n",
      "['million', 'make', 'said', 'education', 'like', 'companies', 'company', 'money', 'year', 'new', 'percent', 'students', 'school', 'people', 'says']\n",
      "\n",
      "\n"
     ]
    }
   ],
   "source": [
    "num_words = 15\n",
    "lol = []\n",
    "for i in range(len(lda.components_)):\n",
    "    temp_list = []\n",
    "    topic = lda.components_[i]\n",
    "    top_15_words = topic.argsort()[-num_words:]\n",
    "    for j in top_15_words:\n",
    "        temp_list.append(cv.get_feature_names()[j])\n",
    "    print(f\"Topic {i+1}\")\n",
    "    print(temp_list)\n",
    "    print(\"\\n\")"
   ]
  },
  {
   "cell_type": "markdown",
   "metadata": {},
   "source": [
    "### Conclusions"
   ]
  },
  {
   "cell_type": "markdown",
   "metadata": {},
   "source": [
    "According to my observations:\n",
    "    \n",
    "    Topic 1 - Business News\n",
    "    Topic 2 - Crime News\n",
    "    Topic 3 - Political International News\n",
    "    Topic 4 - Political National News\n",
    "    Topic 5 - Health News\n",
    "    Topic 6 - Lifestyle\n",
    "    Topic 7 - Entertainment News\n",
    "    Topic 8 - Judiciary News\n",
    "    Topic 9 - Technology News\n",
    "    Topic 10 - Education"
   ]
  },
  {
   "cell_type": "code",
   "execution_count": 64,
   "metadata": {},
   "outputs": [],
   "source": [
    "topic_results = lda.transform(dtm)"
   ]
  },
  {
   "cell_type": "code",
   "execution_count": 65,
   "metadata": {},
   "outputs": [
    {
     "data": {
      "text/plain": [
       "(11992, 10)"
      ]
     },
     "execution_count": 65,
     "metadata": {},
     "output_type": "execute_result"
    }
   ],
   "source": [
    "topic_results.shape"
   ]
  },
  {
   "cell_type": "code",
   "execution_count": 69,
   "metadata": {},
   "outputs": [
    {
     "data": {
      "text/plain": [
       "2"
      ]
     },
     "execution_count": 69,
     "metadata": {},
     "output_type": "execute_result"
    }
   ],
   "source": [
    "topic_results[0].round(2).argmax()"
   ]
  },
  {
   "cell_type": "code",
   "execution_count": 79,
   "metadata": {},
   "outputs": [],
   "source": [
    "npr['topic'] = topic_results.argmax(axis=1) + 1"
   ]
  },
  {
   "cell_type": "code",
   "execution_count": 80,
   "metadata": {},
   "outputs": [
    {
     "data": {
      "text/plain": [
       "6     2278\n",
       "2     1441\n",
       "3     1406\n",
       "10    1329\n",
       "4     1299\n",
       "5     1208\n",
       "9     1054\n",
       "7      893\n",
       "1      795\n",
       "8      289\n",
       "Name: topic, dtype: int64"
      ]
     },
     "execution_count": 80,
     "metadata": {},
     "output_type": "execute_result"
    }
   ],
   "source": [
    "npr[\"topic\"].value_counts()"
   ]
  },
  {
   "cell_type": "code",
   "execution_count": 81,
   "metadata": {
    "scrolled": true
   },
   "outputs": [
    {
     "data": {
      "text/html": [
       "<div>\n",
       "<style scoped>\n",
       "    .dataframe tbody tr th:only-of-type {\n",
       "        vertical-align: middle;\n",
       "    }\n",
       "\n",
       "    .dataframe tbody tr th {\n",
       "        vertical-align: top;\n",
       "    }\n",
       "\n",
       "    .dataframe thead th {\n",
       "        text-align: right;\n",
       "    }\n",
       "</style>\n",
       "<table border=\"1\" class=\"dataframe\">\n",
       "  <thead>\n",
       "    <tr style=\"text-align: right;\">\n",
       "      <th></th>\n",
       "      <th>Article</th>\n",
       "      <th>topic</th>\n",
       "    </tr>\n",
       "  </thead>\n",
       "  <tbody>\n",
       "    <tr>\n",
       "      <th>0</th>\n",
       "      <td>In the Washington of 2016, even when the polic...</td>\n",
       "      <td>3</td>\n",
       "    </tr>\n",
       "    <tr>\n",
       "      <th>1</th>\n",
       "      <td>Donald Trump has used Twitter  —   his prefe...</td>\n",
       "      <td>3</td>\n",
       "    </tr>\n",
       "    <tr>\n",
       "      <th>2</th>\n",
       "      <td>Donald Trump is unabashedly praising Russian...</td>\n",
       "      <td>3</td>\n",
       "    </tr>\n",
       "    <tr>\n",
       "      <th>3</th>\n",
       "      <td>Updated at 2:50 p. m. ET, Russian President Vl...</td>\n",
       "      <td>3</td>\n",
       "    </tr>\n",
       "    <tr>\n",
       "      <th>4</th>\n",
       "      <td>From photography, illustration and video, to d...</td>\n",
       "      <td>10</td>\n",
       "    </tr>\n",
       "  </tbody>\n",
       "</table>\n",
       "</div>"
      ],
      "text/plain": [
       "                                             Article  topic\n",
       "0  In the Washington of 2016, even when the polic...      3\n",
       "1    Donald Trump has used Twitter  —   his prefe...      3\n",
       "2    Donald Trump is unabashedly praising Russian...      3\n",
       "3  Updated at 2:50 p. m. ET, Russian President Vl...      3\n",
       "4  From photography, illustration and video, to d...     10"
      ]
     },
     "execution_count": 81,
     "metadata": {},
     "output_type": "execute_result"
    }
   ],
   "source": [
    "npr.head()"
   ]
  },
  {
   "cell_type": "code",
   "execution_count": 86,
   "metadata": {},
   "outputs": [
    {
     "data": {
      "text/plain": [
       "array([ 3, 10,  5,  6,  9,  1,  7,  2,  4,  8], dtype=int64)"
      ]
     },
     "execution_count": 86,
     "metadata": {},
     "output_type": "execute_result"
    }
   ],
   "source": [
    "npr['topic'].unique()"
   ]
  },
  {
   "cell_type": "code",
   "execution_count": null,
   "metadata": {},
   "outputs": [],
   "source": [
    "According to my observations:\n",
    "    \n",
    "    Topic 1 : Business News\n",
    "    Topic 2 : Crime News\n",
    "    Topic 3 : Political International News\n",
    "    Topic 4 : Political National News\n",
    "    Topic 5 : Health News\n",
    "    Topic 6 : Lifestyle\n",
    "    Topic 7 : Entertainment News\n",
    "    Topic 8 : Judiciary News\n",
    "    Topic 9 : Technology News\n",
    "    Topic 10 : Education News"
   ]
  },
  {
   "cell_type": "code",
   "execution_count": 87,
   "metadata": {},
   "outputs": [],
   "source": [
    "label = {1: \"Business News\", \n",
    "         2 : \"Crime News\",\n",
    "         3 : \"Political International News\",\n",
    "         4 : \"Political National News\",\n",
    "         5 : \"Health News\",\n",
    "         6 : \"Lifestyle\",\n",
    "         7 : \"Entertainment News\",\n",
    "         8 : \"Judiciary News\",\n",
    "         9 : \"Technology News\",\n",
    "         10 : \"Education News\",\n",
    "         \n",
    "        }"
   ]
  },
  {
   "cell_type": "code",
   "execution_count": 88,
   "metadata": {
    "scrolled": true
   },
   "outputs": [],
   "source": [
    "npr['topic_label'] = npr['topic'].apply(lambda n: label[n])"
   ]
  },
  {
   "cell_type": "code",
   "execution_count": 89,
   "metadata": {},
   "outputs": [
    {
     "data": {
      "text/html": [
       "<div>\n",
       "<style scoped>\n",
       "    .dataframe tbody tr th:only-of-type {\n",
       "        vertical-align: middle;\n",
       "    }\n",
       "\n",
       "    .dataframe tbody tr th {\n",
       "        vertical-align: top;\n",
       "    }\n",
       "\n",
       "    .dataframe thead th {\n",
       "        text-align: right;\n",
       "    }\n",
       "</style>\n",
       "<table border=\"1\" class=\"dataframe\">\n",
       "  <thead>\n",
       "    <tr style=\"text-align: right;\">\n",
       "      <th></th>\n",
       "      <th>Article</th>\n",
       "      <th>topic</th>\n",
       "      <th>topic_label</th>\n",
       "    </tr>\n",
       "  </thead>\n",
       "  <tbody>\n",
       "    <tr>\n",
       "      <th>0</th>\n",
       "      <td>In the Washington of 2016, even when the polic...</td>\n",
       "      <td>3</td>\n",
       "      <td>Political International News</td>\n",
       "    </tr>\n",
       "    <tr>\n",
       "      <th>1</th>\n",
       "      <td>Donald Trump has used Twitter  —   his prefe...</td>\n",
       "      <td>3</td>\n",
       "      <td>Political International News</td>\n",
       "    </tr>\n",
       "    <tr>\n",
       "      <th>2</th>\n",
       "      <td>Donald Trump is unabashedly praising Russian...</td>\n",
       "      <td>3</td>\n",
       "      <td>Political International News</td>\n",
       "    </tr>\n",
       "    <tr>\n",
       "      <th>3</th>\n",
       "      <td>Updated at 2:50 p. m. ET, Russian President Vl...</td>\n",
       "      <td>3</td>\n",
       "      <td>Political International News</td>\n",
       "    </tr>\n",
       "    <tr>\n",
       "      <th>4</th>\n",
       "      <td>From photography, illustration and video, to d...</td>\n",
       "      <td>10</td>\n",
       "      <td>Education News</td>\n",
       "    </tr>\n",
       "  </tbody>\n",
       "</table>\n",
       "</div>"
      ],
      "text/plain": [
       "                                             Article  topic  \\\n",
       "0  In the Washington of 2016, even when the polic...      3   \n",
       "1    Donald Trump has used Twitter  —   his prefe...      3   \n",
       "2    Donald Trump is unabashedly praising Russian...      3   \n",
       "3  Updated at 2:50 p. m. ET, Russian President Vl...      3   \n",
       "4  From photography, illustration and video, to d...     10   \n",
       "\n",
       "                    topic_label  \n",
       "0  Political International News  \n",
       "1  Political International News  \n",
       "2  Political International News  \n",
       "3  Political International News  \n",
       "4                Education News  "
      ]
     },
     "execution_count": 89,
     "metadata": {},
     "output_type": "execute_result"
    }
   ],
   "source": [
    "npr.head()"
   ]
  },
  {
   "cell_type": "code",
   "execution_count": 91,
   "metadata": {},
   "outputs": [
    {
     "data": {
      "text/plain": [
       "Article        In the early 1990s, Seattle stood at the cente...\n",
       "topic                                                          6\n",
       "topic_label                                            Lifestyle\n",
       "Name: 1222, dtype: object"
      ]
     },
     "execution_count": 91,
     "metadata": {},
     "output_type": "execute_result"
    }
   ],
   "source": [
    "npr.iloc[1222]"
   ]
  },
  {
   "cell_type": "code",
   "execution_count": null,
   "metadata": {},
   "outputs": [],
   "source": []
  }
 ],
 "metadata": {
  "kernelspec": {
   "display_name": "Python 3",
   "language": "python",
   "name": "python3"
  },
  "language_info": {
   "codemirror_mode": {
    "name": "ipython",
    "version": 3
   },
   "file_extension": ".py",
   "mimetype": "text/x-python",
   "name": "python",
   "nbconvert_exporter": "python",
   "pygments_lexer": "ipython3",
   "version": "3.7.7"
  }
 },
 "nbformat": 4,
 "nbformat_minor": 4
}
