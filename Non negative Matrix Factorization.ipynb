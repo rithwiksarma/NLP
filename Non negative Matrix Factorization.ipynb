{
 "cells": [
  {
   "cell_type": "code",
   "execution_count": 1,
   "metadata": {},
   "outputs": [],
   "source": [
    "import pandas as pd"
   ]
  },
  {
   "cell_type": "code",
   "execution_count": 2,
   "metadata": {},
   "outputs": [],
   "source": [
    "npr = pd.read_csv(\"C:/Users/rithw/Desktop/Udemy/UPDATED_NLP_COURSE/05-Topic-Modeling/npr.csv\")"
   ]
  },
  {
   "cell_type": "code",
   "execution_count": 6,
   "metadata": {},
   "outputs": [
    {
     "data": {
      "text/html": [
       "<div>\n",
       "<style scoped>\n",
       "    .dataframe tbody tr th:only-of-type {\n",
       "        vertical-align: middle;\n",
       "    }\n",
       "\n",
       "    .dataframe tbody tr th {\n",
       "        vertical-align: top;\n",
       "    }\n",
       "\n",
       "    .dataframe thead th {\n",
       "        text-align: right;\n",
       "    }\n",
       "</style>\n",
       "<table border=\"1\" class=\"dataframe\">\n",
       "  <thead>\n",
       "    <tr style=\"text-align: right;\">\n",
       "      <th></th>\n",
       "      <th>Article</th>\n",
       "    </tr>\n",
       "  </thead>\n",
       "  <tbody>\n",
       "    <tr>\n",
       "      <th>0</th>\n",
       "      <td>In the Washington of 2016, even when the polic...</td>\n",
       "    </tr>\n",
       "    <tr>\n",
       "      <th>1</th>\n",
       "      <td>Donald Trump has used Twitter  —   his prefe...</td>\n",
       "    </tr>\n",
       "    <tr>\n",
       "      <th>2</th>\n",
       "      <td>Donald Trump is unabashedly praising Russian...</td>\n",
       "    </tr>\n",
       "    <tr>\n",
       "      <th>3</th>\n",
       "      <td>Updated at 2:50 p. m. ET, Russian President Vl...</td>\n",
       "    </tr>\n",
       "    <tr>\n",
       "      <th>4</th>\n",
       "      <td>From photography, illustration and video, to d...</td>\n",
       "    </tr>\n",
       "  </tbody>\n",
       "</table>\n",
       "</div>"
      ],
      "text/plain": [
       "                                             Article\n",
       "0  In the Washington of 2016, even when the polic...\n",
       "1    Donald Trump has used Twitter  —   his prefe...\n",
       "2    Donald Trump is unabashedly praising Russian...\n",
       "3  Updated at 2:50 p. m. ET, Russian President Vl...\n",
       "4  From photography, illustration and video, to d..."
      ]
     },
     "execution_count": 6,
     "metadata": {},
     "output_type": "execute_result"
    }
   ],
   "source": [
    "npr.head()"
   ]
  },
  {
   "cell_type": "code",
   "execution_count": 7,
   "metadata": {},
   "outputs": [
    {
     "data": {
      "text/plain": [
       "'This is the time of year when everybody is making predictions for next year, and everybody is making resolutions for the things they plan to do. But it’s a Pop Culture Happy Hour tradition that while we do these things too, we also revisit the ones from last year to see whether we have any ability to know what’s going to happen (rarely!) and any tendency to follow through on our own plans (sometimes! ). As she has for the last two years, Kat Chow of NPR’s Code Switch team sits down with us to check in. What will the Oscars bring? Did Kat get her dad using Netflix? Just how much is Stephen promising to write? What habit is Glen trying to break? All this and lots, lots more on this special New Year’s edition of Pop Culture Happy Hour. Here’s Glen’s chart, by the way. As always, we close with what’s making us happy this week. Stephen is happy about sharing a new show with his kid, Glen is happy about a film that ”aches for you to be charmed by it,” Kat is happy about an upcoming book you’re sure to hear more about, and I’m happy about a feature Glen recently completed and the return of a favorite reality franchise. Thank you for listening this year, and follow us on Twitter to get good stuff in 2017: me, Stephen, Glen, Kat, producer Jessica, and producer     Mike.'"
      ]
     },
     "execution_count": 7,
     "metadata": {},
     "output_type": "execute_result"
    }
   ],
   "source": [
    "npr['Article'][20]"
   ]
  },
  {
   "cell_type": "markdown",
   "metadata": {},
   "source": [
    "# Pre-processing the data"
   ]
  },
  {
   "cell_type": "code",
   "execution_count": 3,
   "metadata": {},
   "outputs": [],
   "source": [
    "from sklearn.feature_extraction.text import TfidfVectorizer"
   ]
  },
  {
   "cell_type": "code",
   "execution_count": 5,
   "metadata": {},
   "outputs": [],
   "source": [
    "tfidf = TfidfVectorizer(max_df=0.95, min_df=5, stop_words=\"english\", lowercase=True)"
   ]
  },
  {
   "cell_type": "code",
   "execution_count": 8,
   "metadata": {},
   "outputs": [],
   "source": [
    "dtm = tfidf.fit_transform(npr['Article'])"
   ]
  },
  {
   "cell_type": "code",
   "execution_count": 9,
   "metadata": {},
   "outputs": [],
   "source": [
    "from sklearn.decomposition import NMF"
   ]
  },
  {
   "cell_type": "code",
   "execution_count": 11,
   "metadata": {},
   "outputs": [],
   "source": [
    "nmf_model = NMF(n_components=10)"
   ]
  },
  {
   "cell_type": "code",
   "execution_count": 13,
   "metadata": {},
   "outputs": [
    {
     "data": {
      "text/plain": [
       "NMF(alpha=0.0, beta_loss='frobenius', init=None, l1_ratio=0.0, max_iter=200,\n",
       "    n_components=10, random_state=None, shuffle=False, solver='cd', tol=0.0001,\n",
       "    verbose=0)"
      ]
     },
     "execution_count": 13,
     "metadata": {},
     "output_type": "execute_result"
    }
   ],
   "source": [
    "nmf_model.fit(dtm)"
   ]
  },
  {
   "cell_type": "code",
   "execution_count": 15,
   "metadata": {},
   "outputs": [
    {
     "name": "stdout",
     "output_type": "stream",
     "text": [
      "Topic 1\n",
      "['year', 'world', '000', 'china', 'study', 'company', 'percent', 'years', 'just', 'new', 'like', 'water', 'food', 'people', 'says']\n",
      "\n",
      "\n",
      "Topic 2\n",
      "['tax', 'cruz', 'pence', 'administration', 'gop', 'presidential', 'obama', 'white', 'house', 'republican', 'campaign', 'donald', 'said', 'president', 'trump']\n",
      "\n",
      "\n",
      "Topic 3\n",
      "['repeal', 'law', 'patients', 'act', 'republicans', 'tax', 'plan', 'people', 'affordable', 'obamacare', 'coverage', 'medicaid', 'insurance', 'care', 'health']\n",
      "\n",
      "\n",
      "Topic 4\n",
      "['attacks', 'reported', 'military', 'syrian', 'forces', 'people', 'syria', 'killed', 'city', 'officers', 'reports', 'isis', 'attack', 'said', 'police']\n",
      "\n",
      "\n",
      "Topic 5\n",
      "['election', 'cruz', 'democrats', 'primary', 'percent', 'party', 'vote', 'state', 'delegates', 'democratic', 'hillary', 'campaign', 'voters', 'sanders', 'clinton']\n",
      "\n",
      "\n",
      "Topic 6\n",
      "['book', 'women', 'way', 'love', 'time', 'life', 'album', 'people', 'song', 'really', 'know', 'think', 'just', 'like', 'music']\n",
      "\n",
      "\n",
      "Topic 7\n",
      "['says', 'child', 'high', 'teacher', 'devos', 'parents', 'children', 'college', 'kids', 'teachers', 'student', 'education', 'schools', 'school', 'students']\n",
      "\n",
      "\n",
      "Topic 8\n",
      "['birth', 'babies', 'infected', 'brazil', 'outbreak', 'pregnant', 'microcephaly', 'cases', 'health', 'mosquitoes', 'disease', 'mosquito', 'women', 'virus', 'zika']\n",
      "\n",
      "\n",
      "Topic 9\n",
      "['director', 'security', 'election', 'putin', 'said', 'house', 'president', 'flynn', 'committee', 'investigation', 'intelligence', 'russian', 'fbi', 'russia', 'comey']\n",
      "\n",
      "\n",
      "Topic 10\n",
      "['ban', 'rights', 'gorsuch', 'said', 'president', 'senate', 'order', 'case', 'state', 'federal', 'judge', 'justice', 'law', 'supreme', 'court']\n",
      "\n",
      "\n"
     ]
    }
   ],
   "source": [
    "num_words = 15\n",
    "\n",
    "for i in range(len(nmf_model.components_)):\n",
    "    temp_list = []\n",
    "    topic = nmf_model.components_[i]\n",
    "    top_15_words = topic.argsort()[-num_words:]\n",
    "    for j in top_15_words:\n",
    "        temp_list.append(tfidf.get_feature_names()[j])\n",
    "    print(f\"Topic {i+1}\")\n",
    "    print(temp_list)\n",
    "    print(\"\\n\")"
   ]
  },
  {
   "cell_type": "markdown",
   "metadata": {},
   "source": [
    "According to my observations:\n",
    "    \n",
    "    Topic 1 - Disease News\n",
    "    Topic 2 - Political National News\n",
    "    Topic 3 - Election News Republicans\n",
    "    Topic 4 - Crime News\n",
    "    Topic 5 - Election News Democrats\n",
    "    Topic 6 - Lifestyle News\n",
    "    Topic 7 - Education News \n",
    "    Topic 8 - Health News \n",
    "    Topic 9 - International News \n",
    "    Topic 10 - Judiciary News"
   ]
  },
  {
   "cell_type": "code",
   "execution_count": 17,
   "metadata": {},
   "outputs": [],
   "source": [
    "topic_results = nmf_model.transform(dtm)"
   ]
  },
  {
   "cell_type": "code",
   "execution_count": 18,
   "metadata": {},
   "outputs": [],
   "source": [
    "npr['topic'] = topic_results.argmax(axis=1) + 1"
   ]
  },
  {
   "cell_type": "code",
   "execution_count": 19,
   "metadata": {},
   "outputs": [
    {
     "data": {
      "text/html": [
       "<div>\n",
       "<style scoped>\n",
       "    .dataframe tbody tr th:only-of-type {\n",
       "        vertical-align: middle;\n",
       "    }\n",
       "\n",
       "    .dataframe tbody tr th {\n",
       "        vertical-align: top;\n",
       "    }\n",
       "\n",
       "    .dataframe thead th {\n",
       "        text-align: right;\n",
       "    }\n",
       "</style>\n",
       "<table border=\"1\" class=\"dataframe\">\n",
       "  <thead>\n",
       "    <tr style=\"text-align: right;\">\n",
       "      <th></th>\n",
       "      <th>Article</th>\n",
       "      <th>topic</th>\n",
       "    </tr>\n",
       "  </thead>\n",
       "  <tbody>\n",
       "    <tr>\n",
       "      <th>0</th>\n",
       "      <td>In the Washington of 2016, even when the polic...</td>\n",
       "      <td>9</td>\n",
       "    </tr>\n",
       "    <tr>\n",
       "      <th>1</th>\n",
       "      <td>Donald Trump has used Twitter  —   his prefe...</td>\n",
       "      <td>2</td>\n",
       "    </tr>\n",
       "    <tr>\n",
       "      <th>2</th>\n",
       "      <td>Donald Trump is unabashedly praising Russian...</td>\n",
       "      <td>2</td>\n",
       "    </tr>\n",
       "    <tr>\n",
       "      <th>3</th>\n",
       "      <td>Updated at 2:50 p. m. ET, Russian President Vl...</td>\n",
       "      <td>9</td>\n",
       "    </tr>\n",
       "    <tr>\n",
       "      <th>4</th>\n",
       "      <td>From photography, illustration and video, to d...</td>\n",
       "      <td>7</td>\n",
       "    </tr>\n",
       "  </tbody>\n",
       "</table>\n",
       "</div>"
      ],
      "text/plain": [
       "                                             Article  topic\n",
       "0  In the Washington of 2016, even when the polic...      9\n",
       "1    Donald Trump has used Twitter  —   his prefe...      2\n",
       "2    Donald Trump is unabashedly praising Russian...      2\n",
       "3  Updated at 2:50 p. m. ET, Russian President Vl...      9\n",
       "4  From photography, illustration and video, to d...      7"
      ]
     },
     "execution_count": 19,
     "metadata": {},
     "output_type": "execute_result"
    }
   ],
   "source": [
    "npr.head()"
   ]
  },
  {
   "cell_type": "code",
   "execution_count": 20,
   "metadata": {},
   "outputs": [
    {
     "data": {
      "text/plain": [
       "array([ 9,  2,  7,  6,  1,  4, 10,  3,  8,  5], dtype=int64)"
      ]
     },
     "execution_count": 20,
     "metadata": {},
     "output_type": "execute_result"
    }
   ],
   "source": [
    "npr['topic'].unique()"
   ]
  },
  {
   "cell_type": "code",
   "execution_count": 21,
   "metadata": {},
   "outputs": [],
   "source": [
    "label = {1: \"Disease News\", \n",
    "         2 : \"Political National News\",\n",
    "         3 : \"Election News Republicans\",\n",
    "         4 : \"Crime News\",\n",
    "         5 : \"Election News Democrats\",\n",
    "         6 : \"Lifestyle News\",\n",
    "         7 : \"Education News \",\n",
    "         8 : \"Health News\",\n",
    "         9 : \"Interntional News\",\n",
    "         10 : \"Judiciary News\",\n",
    "         \n",
    "        }"
   ]
  },
  {
   "cell_type": "code",
   "execution_count": 22,
   "metadata": {},
   "outputs": [],
   "source": [
    "npr['topic_label'] = npr['topic'].apply(lambda n: label[n])"
   ]
  },
  {
   "cell_type": "code",
   "execution_count": 23,
   "metadata": {},
   "outputs": [
    {
     "data": {
      "text/html": [
       "<div>\n",
       "<style scoped>\n",
       "    .dataframe tbody tr th:only-of-type {\n",
       "        vertical-align: middle;\n",
       "    }\n",
       "\n",
       "    .dataframe tbody tr th {\n",
       "        vertical-align: top;\n",
       "    }\n",
       "\n",
       "    .dataframe thead th {\n",
       "        text-align: right;\n",
       "    }\n",
       "</style>\n",
       "<table border=\"1\" class=\"dataframe\">\n",
       "  <thead>\n",
       "    <tr style=\"text-align: right;\">\n",
       "      <th></th>\n",
       "      <th>Article</th>\n",
       "      <th>topic</th>\n",
       "      <th>topic_label</th>\n",
       "    </tr>\n",
       "  </thead>\n",
       "  <tbody>\n",
       "    <tr>\n",
       "      <th>0</th>\n",
       "      <td>In the Washington of 2016, even when the polic...</td>\n",
       "      <td>9</td>\n",
       "      <td>Interntional News</td>\n",
       "    </tr>\n",
       "    <tr>\n",
       "      <th>1</th>\n",
       "      <td>Donald Trump has used Twitter  —   his prefe...</td>\n",
       "      <td>2</td>\n",
       "      <td>Political National News</td>\n",
       "    </tr>\n",
       "    <tr>\n",
       "      <th>2</th>\n",
       "      <td>Donald Trump is unabashedly praising Russian...</td>\n",
       "      <td>2</td>\n",
       "      <td>Political National News</td>\n",
       "    </tr>\n",
       "    <tr>\n",
       "      <th>3</th>\n",
       "      <td>Updated at 2:50 p. m. ET, Russian President Vl...</td>\n",
       "      <td>9</td>\n",
       "      <td>Interntional News</td>\n",
       "    </tr>\n",
       "    <tr>\n",
       "      <th>4</th>\n",
       "      <td>From photography, illustration and video, to d...</td>\n",
       "      <td>7</td>\n",
       "      <td>Education News</td>\n",
       "    </tr>\n",
       "  </tbody>\n",
       "</table>\n",
       "</div>"
      ],
      "text/plain": [
       "                                             Article  topic  \\\n",
       "0  In the Washington of 2016, even when the polic...      9   \n",
       "1    Donald Trump has used Twitter  —   his prefe...      2   \n",
       "2    Donald Trump is unabashedly praising Russian...      2   \n",
       "3  Updated at 2:50 p. m. ET, Russian President Vl...      9   \n",
       "4  From photography, illustration and video, to d...      7   \n",
       "\n",
       "               topic_label  \n",
       "0        Interntional News  \n",
       "1  Political National News  \n",
       "2  Political National News  \n",
       "3        Interntional News  \n",
       "4          Education News   "
      ]
     },
     "execution_count": 23,
     "metadata": {},
     "output_type": "execute_result"
    }
   ],
   "source": [
    "npr.head()"
   ]
  },
  {
   "cell_type": "code",
   "execution_count": 24,
   "metadata": {},
   "outputs": [
    {
     "data": {
      "text/plain": [
       "Article        In the early 1990s, Seattle stood at the cente...\n",
       "topic                                                          6\n",
       "topic_label                                       Lifestyle News\n",
       "Name: 1222, dtype: object"
      ]
     },
     "execution_count": 24,
     "metadata": {},
     "output_type": "execute_result"
    }
   ],
   "source": [
    "npr.iloc[1222]"
   ]
  },
  {
   "cell_type": "code",
   "execution_count": null,
   "metadata": {},
   "outputs": [],
   "source": []
  }
 ],
 "metadata": {
  "kernelspec": {
   "display_name": "Python 3",
   "language": "python",
   "name": "python3"
  },
  "language_info": {
   "codemirror_mode": {
    "name": "ipython",
    "version": 3
   },
   "file_extension": ".py",
   "mimetype": "text/x-python",
   "name": "python",
   "nbconvert_exporter": "python",
   "pygments_lexer": "ipython3",
   "version": "3.7.7"
  }
 },
 "nbformat": 4,
 "nbformat_minor": 4
}
